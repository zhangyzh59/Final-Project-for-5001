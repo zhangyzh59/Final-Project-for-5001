{
 "cells": [
  {
   "cell_type": "markdown",
   "metadata": {},
   "source": [
    "# Reference\n",
    "- https://medium.com/@jdwittenauer/deep-learning-with-keras-recommender-systems-e7b99cb29929 Collaborative Filtering by Embedding\n",
    "- http://surpriselib.com/"
   ]
  },
  {
   "cell_type": "markdown",
   "metadata": {},
   "source": [
    "# Step 0: Import Library"
   ]
  },
  {
   "cell_type": "code",
   "execution_count": 1,
   "metadata": {},
   "outputs": [],
   "source": [
    "import pandas as pd\n",
    "import numpy as np"
   ]
  },
  {
   "cell_type": "markdown",
   "metadata": {},
   "source": [
    "# Step 1: Load & Explore data"
   ]
  },
  {
   "cell_type": "code",
   "execution_count": 2,
   "metadata": {},
   "outputs": [
    {
     "data": {
      "text/html": [
       "<div>\n",
       "<style scoped>\n",
       "    .dataframe tbody tr th:only-of-type {\n",
       "        vertical-align: middle;\n",
       "    }\n",
       "\n",
       "    .dataframe tbody tr th {\n",
       "        vertical-align: top;\n",
       "    }\n",
       "\n",
       "    .dataframe thead th {\n",
       "        text-align: right;\n",
       "    }\n",
       "</style>\n",
       "<table border=\"1\" class=\"dataframe\">\n",
       "  <thead>\n",
       "    <tr style=\"text-align: right;\">\n",
       "      <th></th>\n",
       "      <th>UserID</th>\n",
       "      <th>MovieID</th>\n",
       "      <th>Rating</th>\n",
       "      <th>timestamps</th>\n",
       "    </tr>\n",
       "  </thead>\n",
       "  <tbody>\n",
       "    <tr>\n",
       "      <th>0</th>\n",
       "      <td>1</td>\n",
       "      <td>1193</td>\n",
       "      <td>5</td>\n",
       "      <td>978300760</td>\n",
       "    </tr>\n",
       "    <tr>\n",
       "      <th>1</th>\n",
       "      <td>1</td>\n",
       "      <td>661</td>\n",
       "      <td>3</td>\n",
       "      <td>978302109</td>\n",
       "    </tr>\n",
       "    <tr>\n",
       "      <th>2</th>\n",
       "      <td>1</td>\n",
       "      <td>914</td>\n",
       "      <td>3</td>\n",
       "      <td>978301968</td>\n",
       "    </tr>\n",
       "    <tr>\n",
       "      <th>3</th>\n",
       "      <td>1</td>\n",
       "      <td>3408</td>\n",
       "      <td>4</td>\n",
       "      <td>978300275</td>\n",
       "    </tr>\n",
       "    <tr>\n",
       "      <th>4</th>\n",
       "      <td>1</td>\n",
       "      <td>2355</td>\n",
       "      <td>5</td>\n",
       "      <td>978824291</td>\n",
       "    </tr>\n",
       "  </tbody>\n",
       "</table>\n",
       "</div>"
      ],
      "text/plain": [
       "   UserID  MovieID  Rating  timestamps\n",
       "0       1     1193       5   978300760\n",
       "1       1      661       3   978302109\n",
       "2       1      914       3   978301968\n",
       "3       1     3408       4   978300275\n",
       "4       1     2355       5   978824291"
      ]
     },
     "execution_count": 2,
     "metadata": {},
     "output_type": "execute_result"
    }
   ],
   "source": [
    "dataset = pd.read_csv('./Data/ratings.dat',\n",
    "                         delimiter='::', engine='python', header=None,\n",
    "                         names=['UserID', 'MovieID', 'Rating', 'timestamps'])\n",
    "dataset.head()"
   ]
  },
  {
   "cell_type": "code",
   "execution_count": 3,
   "metadata": {},
   "outputs": [
    {
     "data": {
      "text/plain": [
       "1000209"
      ]
     },
     "execution_count": 3,
     "metadata": {},
     "output_type": "execute_result"
    }
   ],
   "source": [
    "len(dataset)"
   ]
  },
  {
   "cell_type": "code",
   "execution_count": 4,
   "metadata": {},
   "outputs": [
    {
     "data": {
      "text/plain": [
       "(6040, 3706)"
      ]
     },
     "execution_count": 4,
     "metadata": {},
     "output_type": "execute_result"
    }
   ],
   "source": [
    "len(dataset.UserID.unique()), len(dataset.MovieID.unique())"
   ]
  },
  {
   "cell_type": "markdown",
   "metadata": {},
   "source": [
    "# Step 2: Check if there is any missing data"
   ]
  },
  {
   "cell_type": "code",
   "execution_count": 5,
   "metadata": {},
   "outputs": [
    {
     "data": {
      "text/plain": [
       "UserID        0\n",
       "MovieID       0\n",
       "Rating        0\n",
       "timestamps    0\n",
       "dtype: int64"
      ]
     },
     "execution_count": 5,
     "metadata": {},
     "output_type": "execute_result"
    }
   ],
   "source": [
    "dataset.isna().sum()"
   ]
  },
  {
   "cell_type": "markdown",
   "metadata": {},
   "source": [
    "# Step 3: Drop Timestamp"
   ]
  },
  {
   "cell_type": "code",
   "execution_count": 6,
   "metadata": {},
   "outputs": [
    {
     "data": {
      "text/html": [
       "<div>\n",
       "<style scoped>\n",
       "    .dataframe tbody tr th:only-of-type {\n",
       "        vertical-align: middle;\n",
       "    }\n",
       "\n",
       "    .dataframe tbody tr th {\n",
       "        vertical-align: top;\n",
       "    }\n",
       "\n",
       "    .dataframe thead th {\n",
       "        text-align: right;\n",
       "    }\n",
       "</style>\n",
       "<table border=\"1\" class=\"dataframe\">\n",
       "  <thead>\n",
       "    <tr style=\"text-align: right;\">\n",
       "      <th></th>\n",
       "      <th>UserID</th>\n",
       "      <th>MovieID</th>\n",
       "      <th>Rating</th>\n",
       "    </tr>\n",
       "  </thead>\n",
       "  <tbody>\n",
       "    <tr>\n",
       "      <th>0</th>\n",
       "      <td>1</td>\n",
       "      <td>1193</td>\n",
       "      <td>5</td>\n",
       "    </tr>\n",
       "    <tr>\n",
       "      <th>1</th>\n",
       "      <td>1</td>\n",
       "      <td>661</td>\n",
       "      <td>3</td>\n",
       "    </tr>\n",
       "    <tr>\n",
       "      <th>2</th>\n",
       "      <td>1</td>\n",
       "      <td>914</td>\n",
       "      <td>3</td>\n",
       "    </tr>\n",
       "    <tr>\n",
       "      <th>3</th>\n",
       "      <td>1</td>\n",
       "      <td>3408</td>\n",
       "      <td>4</td>\n",
       "    </tr>\n",
       "    <tr>\n",
       "      <th>4</th>\n",
       "      <td>1</td>\n",
       "      <td>2355</td>\n",
       "      <td>5</td>\n",
       "    </tr>\n",
       "  </tbody>\n",
       "</table>\n",
       "</div>"
      ],
      "text/plain": [
       "   UserID  MovieID  Rating\n",
       "0       1     1193       5\n",
       "1       1      661       3\n",
       "2       1      914       3\n",
       "3       1     3408       4\n",
       "4       1     2355       5"
      ]
     },
     "execution_count": 6,
     "metadata": {},
     "output_type": "execute_result"
    }
   ],
   "source": [
    "dataset.drop('timestamps', axis=1, inplace=True)\n",
    "dataset.head()"
   ]
  },
  {
   "cell_type": "markdown",
   "metadata": {},
   "source": [
    "# Step 4: Exploratory Data Analysis"
   ]
  },
  {
   "cell_type": "markdown",
   "metadata": {},
   "source": [
    "### 4.1 Number of movies and users"
   ]
  },
  {
   "cell_type": "code",
   "execution_count": 7,
   "metadata": {},
   "outputs": [
    {
     "name": "stdout",
     "output_type": "stream",
     "text": [
      "Number of unique movies: 3706\n",
      "Number of unique users: 6040\n"
     ]
    }
   ],
   "source": [
    "n_movies = dataset['MovieID'].nunique()\n",
    "n_users = dataset['UserID'].nunique()\n",
    "print(f'Number of unique movies: {n_movies}')\n",
    "print(f'Number of unique users: {n_users}')"
   ]
  },
  {
   "cell_type": "markdown",
   "metadata": {},
   "source": [
    "### 4.2 Check Sparsity of the Data"
   ]
  },
  {
   "cell_type": "code",
   "execution_count": 8,
   "metadata": {},
   "outputs": [
    {
     "name": "stdout",
     "output_type": "stream",
     "text": [
      "Number of Available Ratings: 1000209\n",
      "Number of Missing Ratings: 21384031\n",
      "Number of Total Ratings: 22384240 \n",
      "\n",
      "Sparsity: 95.53163743776871\n"
     ]
    }
   ],
   "source": [
    "available_ratings = dataset['Rating'].count()\n",
    "total_ratings = n_movies*n_users\n",
    "missing_ratings = total_ratings - available_ratings\n",
    "sparsity = (missing_ratings/total_ratings) * 100\n",
    "\n",
    "print(f'Number of Available Ratings: {available_ratings}')\n",
    "print(f'Number of Missing Ratings: {missing_ratings}')\n",
    "print(f'Number of Total Ratings: {total_ratings}', '\\n')\n",
    "print(f'Sparsity: {sparsity}')"
   ]
  },
  {
   "cell_type": "markdown",
   "metadata": {},
   "source": [
    "### 4.3 Explore the Distribution of Rating"
   ]
  },
  {
   "cell_type": "code",
   "execution_count": 9,
   "metadata": {},
   "outputs": [
    {
     "data": {
      "text/plain": [
       "<AxesSubplot:>"
      ]
     },
     "execution_count": 9,
     "metadata": {},
     "output_type": "execute_result"
    },
    {
     "data": {
      "image/png": "[encoded data removed]",
      "text/plain": [
       "<Figure size 432x288 with 1 Axes>"
      ]
     },
     "metadata": {
      "needs_background": "light"
     },
     "output_type": "display_data"
    }
   ],
   "source": [
    "dataset['Rating'].value_counts().plot(kind='bar')"
   ]
  },
  {
   "cell_type": "markdown",
   "metadata": {},
   "source": [
    "# Step 5: Dimensionality Reduction\n",
    "To reduce the dimensionality of the dataset, we will filter out rarely rated movies and rarely rating users"
   ]
  },
  {
   "cell_type": "markdown",
   "metadata": {},
   "source": [
    "### 5.1 Filter movies with less than 3 ratings"
   ]
  },
  {
   "cell_type": "code",
   "execution_count": 10,
   "metadata": {},
   "outputs": [
    {
     "data": {
      "text/plain": [
       "3461"
      ]
     },
     "execution_count": 10,
     "metadata": {},
     "output_type": "execute_result"
    }
   ],
   "source": [
    "filter_movies = dataset['MovieID'].value_counts() > 3\n",
    "filter_movies = filter_movies[filter_movies].index.tolist()\n",
    "len(filter_movies)"
   ]
  },
  {
   "cell_type": "markdown",
   "metadata": {},
   "source": [
    "### 5.2 Filter users with less than 3 movies rated"
   ]
  },
  {
   "cell_type": "code",
   "execution_count": 11,
   "metadata": {},
   "outputs": [
    {
     "data": {
      "text/plain": [
       "6040"
      ]
     },
     "execution_count": 11,
     "metadata": {},
     "output_type": "execute_result"
    }
   ],
   "source": [
    "filter_users = dataset['UserID'].value_counts() > 3\n",
    "filter_users = filter_users[filter_users].index.tolist()\n",
    "len(filter_users)"
   ]
  },
  {
   "cell_type": "markdown",
   "metadata": {},
   "source": [
    "### 5.3 Remove rarely rated movies and rarely rating users"
   ]
  },
  {
   "cell_type": "code",
   "execution_count": 12,
   "metadata": {},
   "outputs": [
    {
     "name": "stdout",
     "output_type": "stream",
     "text": [
      "New shape: (999791, 3)\n"
     ]
    }
   ],
   "source": [
    "#5.3-Remove-rarely-rated-movies-and-rarely-rating-usersprint(f'Original shape: {dataset.shape}')\n",
    "dataset = dataset[(dataset['MovieID'].isin(filter_movies)) & (dataset['UserID'].isin(filter_users))]\n",
    "print(f'New shape: {dataset.shape}')"
   ]
  },
  {
   "cell_type": "markdown",
   "metadata": {},
   "source": [
    "# Step 6: We assign a unique number between (0, #users) to each user and do the same for movies and store the mapping function"
   ]
  },
  {
   "cell_type": "code",
   "execution_count": 13,
   "metadata": {},
   "outputs": [],
   "source": [
    "u_d = dict(enumerate(dataset.UserID.astype('category').cat.categories))\n",
    "u_d = {v: k for k, v in u_d.items()}\n",
    "m_d = dict(enumerate(dataset.MovieID.astype('category').cat.categories))\n",
    "m_d = {v: k for k, v in m_d.items()}"
   ]
  },
  {
   "cell_type": "code",
   "execution_count": 14,
   "metadata": {},
   "outputs": [],
   "source": [
    "dataset.UserID = dataset.UserID.astype('category').cat.codes.values\n",
    "dataset.MovieID = dataset.MovieID.astype('category').cat.codes.values"
   ]
  },
  {
   "cell_type": "code",
   "execution_count": 15,
   "metadata": {},
   "outputs": [
    {
     "data": {
      "text/html": [
       "<div>\n",
       "<style scoped>\n",
       "    .dataframe tbody tr th:only-of-type {\n",
       "        vertical-align: middle;\n",
       "    }\n",
       "\n",
       "    .dataframe tbody tr th {\n",
       "        vertical-align: top;\n",
       "    }\n",
       "\n",
       "    .dataframe thead th {\n",
       "        text-align: right;\n",
       "    }\n",
       "</style>\n",
       "<table border=\"1\" class=\"dataframe\">\n",
       "  <thead>\n",
       "    <tr style=\"text-align: right;\">\n",
       "      <th></th>\n",
       "      <th>UserID</th>\n",
       "      <th>MovieID</th>\n",
       "      <th>Rating</th>\n",
       "    </tr>\n",
       "  </thead>\n",
       "  <tbody>\n",
       "    <tr>\n",
       "      <th>1000204</th>\n",
       "      <td>6039</td>\n",
       "      <td>934</td>\n",
       "      <td>1</td>\n",
       "    </tr>\n",
       "    <tr>\n",
       "      <th>1000205</th>\n",
       "      <td>6039</td>\n",
       "      <td>937</td>\n",
       "      <td>5</td>\n",
       "    </tr>\n",
       "    <tr>\n",
       "      <th>1000206</th>\n",
       "      <td>6039</td>\n",
       "      <td>528</td>\n",
       "      <td>5</td>\n",
       "    </tr>\n",
       "    <tr>\n",
       "      <th>1000207</th>\n",
       "      <td>6039</td>\n",
       "      <td>939</td>\n",
       "      <td>4</td>\n",
       "    </tr>\n",
       "    <tr>\n",
       "      <th>1000208</th>\n",
       "      <td>6039</td>\n",
       "      <td>940</td>\n",
       "      <td>4</td>\n",
       "    </tr>\n",
       "  </tbody>\n",
       "</table>\n",
       "</div>"
      ],
      "text/plain": [
       "         UserID  MovieID  Rating\n",
       "1000204    6039      934       1\n",
       "1000205    6039      937       5\n",
       "1000206    6039      528       5\n",
       "1000207    6039      939       4\n",
       "1000208    6039      940       4"
      ]
     },
     "execution_count": 15,
     "metadata": {},
     "output_type": "execute_result"
    }
   ],
   "source": [
    "dataset.tail()"
   ]
  },
  {
   "cell_type": "markdown",
   "metadata": {},
   "source": [
    "# Step 7: Create user-item matrix"
   ]
  },
  {
   "cell_type": "code",
   "execution_count": 16,
   "metadata": {},
   "outputs": [
    {
     "data": {
      "text/html": [
       "<div>\n",
       "<style scoped>\n",
       "    .dataframe tbody tr th:only-of-type {\n",
       "        vertical-align: middle;\n",
       "    }\n",
       "\n",
       "    .dataframe tbody tr th {\n",
       "        vertical-align: top;\n",
       "    }\n",
       "\n",
       "    .dataframe thead th {\n",
       "        text-align: right;\n",
       "    }\n",
       "</style>\n",
       "<table border=\"1\" class=\"dataframe\">\n",
       "  <thead>\n",
       "    <tr style=\"text-align: right;\">\n",
       "      <th>MovieID</th>\n",
       "      <th>0</th>\n",
       "      <th>1</th>\n",
       "      <th>2</th>\n",
       "      <th>3</th>\n",
       "      <th>4</th>\n",
       "      <th>5</th>\n",
       "      <th>6</th>\n",
       "      <th>7</th>\n",
       "      <th>8</th>\n",
       "      <th>9</th>\n",
       "      <th>...</th>\n",
       "      <th>3451</th>\n",
       "      <th>3452</th>\n",
       "      <th>3453</th>\n",
       "      <th>3454</th>\n",
       "      <th>3455</th>\n",
       "      <th>3456</th>\n",
       "      <th>3457</th>\n",
       "      <th>3458</th>\n",
       "      <th>3459</th>\n",
       "      <th>3460</th>\n",
       "    </tr>\n",
       "    <tr>\n",
       "      <th>UserID</th>\n",
       "      <th></th>\n",
       "      <th></th>\n",
       "      <th></th>\n",
       "      <th></th>\n",
       "      <th></th>\n",
       "      <th></th>\n",
       "      <th></th>\n",
       "      <th></th>\n",
       "      <th></th>\n",
       "      <th></th>\n",
       "      <th></th>\n",
       "      <th></th>\n",
       "      <th></th>\n",
       "      <th></th>\n",
       "      <th></th>\n",
       "      <th></th>\n",
       "      <th></th>\n",
       "      <th></th>\n",
       "      <th></th>\n",
       "      <th></th>\n",
       "      <th></th>\n",
       "    </tr>\n",
       "  </thead>\n",
       "  <tbody>\n",
       "    <tr>\n",
       "      <th>0</th>\n",
       "      <td>5.0</td>\n",
       "      <td>NaN</td>\n",
       "      <td>NaN</td>\n",
       "      <td>NaN</td>\n",
       "      <td>NaN</td>\n",
       "      <td>NaN</td>\n",
       "      <td>NaN</td>\n",
       "      <td>NaN</td>\n",
       "      <td>NaN</td>\n",
       "      <td>NaN</td>\n",
       "      <td>...</td>\n",
       "      <td>NaN</td>\n",
       "      <td>NaN</td>\n",
       "      <td>NaN</td>\n",
       "      <td>NaN</td>\n",
       "      <td>NaN</td>\n",
       "      <td>NaN</td>\n",
       "      <td>NaN</td>\n",
       "      <td>NaN</td>\n",
       "      <td>NaN</td>\n",
       "      <td>NaN</td>\n",
       "    </tr>\n",
       "    <tr>\n",
       "      <th>1</th>\n",
       "      <td>NaN</td>\n",
       "      <td>NaN</td>\n",
       "      <td>NaN</td>\n",
       "      <td>NaN</td>\n",
       "      <td>NaN</td>\n",
       "      <td>NaN</td>\n",
       "      <td>NaN</td>\n",
       "      <td>NaN</td>\n",
       "      <td>NaN</td>\n",
       "      <td>NaN</td>\n",
       "      <td>...</td>\n",
       "      <td>NaN</td>\n",
       "      <td>NaN</td>\n",
       "      <td>NaN</td>\n",
       "      <td>NaN</td>\n",
       "      <td>NaN</td>\n",
       "      <td>NaN</td>\n",
       "      <td>NaN</td>\n",
       "      <td>NaN</td>\n",
       "      <td>NaN</td>\n",
       "      <td>NaN</td>\n",
       "    </tr>\n",
       "    <tr>\n",
       "      <th>2</th>\n",
       "      <td>NaN</td>\n",
       "      <td>NaN</td>\n",
       "      <td>NaN</td>\n",
       "      <td>NaN</td>\n",
       "      <td>NaN</td>\n",
       "      <td>NaN</td>\n",
       "      <td>NaN</td>\n",
       "      <td>NaN</td>\n",
       "      <td>NaN</td>\n",
       "      <td>NaN</td>\n",
       "      <td>...</td>\n",
       "      <td>NaN</td>\n",
       "      <td>NaN</td>\n",
       "      <td>NaN</td>\n",
       "      <td>NaN</td>\n",
       "      <td>NaN</td>\n",
       "      <td>NaN</td>\n",
       "      <td>NaN</td>\n",
       "      <td>NaN</td>\n",
       "      <td>NaN</td>\n",
       "      <td>NaN</td>\n",
       "    </tr>\n",
       "    <tr>\n",
       "      <th>3</th>\n",
       "      <td>NaN</td>\n",
       "      <td>NaN</td>\n",
       "      <td>NaN</td>\n",
       "      <td>NaN</td>\n",
       "      <td>NaN</td>\n",
       "      <td>NaN</td>\n",
       "      <td>NaN</td>\n",
       "      <td>NaN</td>\n",
       "      <td>NaN</td>\n",
       "      <td>NaN</td>\n",
       "      <td>...</td>\n",
       "      <td>NaN</td>\n",
       "      <td>NaN</td>\n",
       "      <td>NaN</td>\n",
       "      <td>NaN</td>\n",
       "      <td>NaN</td>\n",
       "      <td>NaN</td>\n",
       "      <td>NaN</td>\n",
       "      <td>NaN</td>\n",
       "      <td>NaN</td>\n",
       "      <td>NaN</td>\n",
       "    </tr>\n",
       "    <tr>\n",
       "      <th>4</th>\n",
       "      <td>NaN</td>\n",
       "      <td>NaN</td>\n",
       "      <td>NaN</td>\n",
       "      <td>NaN</td>\n",
       "      <td>NaN</td>\n",
       "      <td>2.0</td>\n",
       "      <td>NaN</td>\n",
       "      <td>NaN</td>\n",
       "      <td>NaN</td>\n",
       "      <td>NaN</td>\n",
       "      <td>...</td>\n",
       "      <td>NaN</td>\n",
       "      <td>NaN</td>\n",
       "      <td>NaN</td>\n",
       "      <td>NaN</td>\n",
       "      <td>NaN</td>\n",
       "      <td>NaN</td>\n",
       "      <td>NaN</td>\n",
       "      <td>NaN</td>\n",
       "      <td>NaN</td>\n",
       "      <td>NaN</td>\n",
       "    </tr>\n",
       "  </tbody>\n",
       "</table>\n",
       "<p>5 rows × 3461 columns</p>\n",
       "</div>"
      ],
      "text/plain": [
       "MovieID  0     1     2     3     4     5     6     7     8     9     ...  \\\n",
       "UserID                                                               ...   \n",
       "0         5.0   NaN   NaN   NaN   NaN   NaN   NaN   NaN   NaN   NaN  ...   \n",
       "1         NaN   NaN   NaN   NaN   NaN   NaN   NaN   NaN   NaN   NaN  ...   \n",
       "2         NaN   NaN   NaN   NaN   NaN   NaN   NaN   NaN   NaN   NaN  ...   \n",
       "3         NaN   NaN   NaN   NaN   NaN   NaN   NaN   NaN   NaN   NaN  ...   \n",
       "4         NaN   NaN   NaN   NaN   NaN   2.0   NaN   NaN   NaN   NaN  ...   \n",
       "\n",
       "MovieID  3451  3452  3453  3454  3455  3456  3457  3458  3459  3460  \n",
       "UserID                                                               \n",
       "0         NaN   NaN   NaN   NaN   NaN   NaN   NaN   NaN   NaN   NaN  \n",
       "1         NaN   NaN   NaN   NaN   NaN   NaN   NaN   NaN   NaN   NaN  \n",
       "2         NaN   NaN   NaN   NaN   NaN   NaN   NaN   NaN   NaN   NaN  \n",
       "3         NaN   NaN   NaN   NaN   NaN   NaN   NaN   NaN   NaN   NaN  \n",
       "4         NaN   NaN   NaN   NaN   NaN   NaN   NaN   NaN   NaN   NaN  \n",
       "\n",
       "[5 rows x 3461 columns]"
      ]
     },
     "execution_count": 16,
     "metadata": {},
     "output_type": "execute_result"
    }
   ],
   "source": [
    "matrix = dataset.pivot_table(index='UserID', columns='MovieID', values='Rating')\n",
    "matrix.head()"
   ]
  },
  {
   "cell_type": "markdown",
   "metadata": {},
   "source": [
    "# Step 8: Data Normalization - for consine similarity of user"
   ]
  },
  {
   "cell_type": "code",
   "execution_count": 17,
   "metadata": {},
   "outputs": [
    {
     "data": {
      "text/html": [
       "<div>\n",
       "<style scoped>\n",
       "    .dataframe tbody tr th:only-of-type {\n",
       "        vertical-align: middle;\n",
       "    }\n",
       "\n",
       "    .dataframe tbody tr th {\n",
       "        vertical-align: top;\n",
       "    }\n",
       "\n",
       "    .dataframe thead th {\n",
       "        text-align: right;\n",
       "    }\n",
       "</style>\n",
       "<table border=\"1\" class=\"dataframe\">\n",
       "  <thead>\n",
       "    <tr style=\"text-align: right;\">\n",
       "      <th>MovieID</th>\n",
       "      <th>0</th>\n",
       "      <th>1</th>\n",
       "      <th>2</th>\n",
       "      <th>3</th>\n",
       "      <th>4</th>\n",
       "      <th>5</th>\n",
       "      <th>6</th>\n",
       "      <th>7</th>\n",
       "      <th>8</th>\n",
       "      <th>9</th>\n",
       "      <th>...</th>\n",
       "      <th>3451</th>\n",
       "      <th>3452</th>\n",
       "      <th>3453</th>\n",
       "      <th>3454</th>\n",
       "      <th>3455</th>\n",
       "      <th>3456</th>\n",
       "      <th>3457</th>\n",
       "      <th>3458</th>\n",
       "      <th>3459</th>\n",
       "      <th>3460</th>\n",
       "    </tr>\n",
       "    <tr>\n",
       "      <th>UserID</th>\n",
       "      <th></th>\n",
       "      <th></th>\n",
       "      <th></th>\n",
       "      <th></th>\n",
       "      <th></th>\n",
       "      <th></th>\n",
       "      <th></th>\n",
       "      <th></th>\n",
       "      <th></th>\n",
       "      <th></th>\n",
       "      <th></th>\n",
       "      <th></th>\n",
       "      <th></th>\n",
       "      <th></th>\n",
       "      <th></th>\n",
       "      <th></th>\n",
       "      <th></th>\n",
       "      <th></th>\n",
       "      <th></th>\n",
       "      <th></th>\n",
       "      <th></th>\n",
       "    </tr>\n",
       "  </thead>\n",
       "  <tbody>\n",
       "    <tr>\n",
       "      <th>0</th>\n",
       "      <td>0.811321</td>\n",
       "      <td>NaN</td>\n",
       "      <td>NaN</td>\n",
       "      <td>NaN</td>\n",
       "      <td>NaN</td>\n",
       "      <td>NaN</td>\n",
       "      <td>NaN</td>\n",
       "      <td>NaN</td>\n",
       "      <td>NaN</td>\n",
       "      <td>NaN</td>\n",
       "      <td>...</td>\n",
       "      <td>NaN</td>\n",
       "      <td>NaN</td>\n",
       "      <td>NaN</td>\n",
       "      <td>NaN</td>\n",
       "      <td>NaN</td>\n",
       "      <td>NaN</td>\n",
       "      <td>NaN</td>\n",
       "      <td>NaN</td>\n",
       "      <td>NaN</td>\n",
       "      <td>NaN</td>\n",
       "    </tr>\n",
       "    <tr>\n",
       "      <th>1</th>\n",
       "      <td>NaN</td>\n",
       "      <td>NaN</td>\n",
       "      <td>NaN</td>\n",
       "      <td>NaN</td>\n",
       "      <td>NaN</td>\n",
       "      <td>NaN</td>\n",
       "      <td>NaN</td>\n",
       "      <td>NaN</td>\n",
       "      <td>NaN</td>\n",
       "      <td>NaN</td>\n",
       "      <td>...</td>\n",
       "      <td>NaN</td>\n",
       "      <td>NaN</td>\n",
       "      <td>NaN</td>\n",
       "      <td>NaN</td>\n",
       "      <td>NaN</td>\n",
       "      <td>NaN</td>\n",
       "      <td>NaN</td>\n",
       "      <td>NaN</td>\n",
       "      <td>NaN</td>\n",
       "      <td>NaN</td>\n",
       "    </tr>\n",
       "    <tr>\n",
       "      <th>2</th>\n",
       "      <td>NaN</td>\n",
       "      <td>NaN</td>\n",
       "      <td>NaN</td>\n",
       "      <td>NaN</td>\n",
       "      <td>NaN</td>\n",
       "      <td>NaN</td>\n",
       "      <td>NaN</td>\n",
       "      <td>NaN</td>\n",
       "      <td>NaN</td>\n",
       "      <td>NaN</td>\n",
       "      <td>...</td>\n",
       "      <td>NaN</td>\n",
       "      <td>NaN</td>\n",
       "      <td>NaN</td>\n",
       "      <td>NaN</td>\n",
       "      <td>NaN</td>\n",
       "      <td>NaN</td>\n",
       "      <td>NaN</td>\n",
       "      <td>NaN</td>\n",
       "      <td>NaN</td>\n",
       "      <td>NaN</td>\n",
       "    </tr>\n",
       "    <tr>\n",
       "      <th>3</th>\n",
       "      <td>NaN</td>\n",
       "      <td>NaN</td>\n",
       "      <td>NaN</td>\n",
       "      <td>NaN</td>\n",
       "      <td>NaN</td>\n",
       "      <td>NaN</td>\n",
       "      <td>NaN</td>\n",
       "      <td>NaN</td>\n",
       "      <td>NaN</td>\n",
       "      <td>NaN</td>\n",
       "      <td>...</td>\n",
       "      <td>NaN</td>\n",
       "      <td>NaN</td>\n",
       "      <td>NaN</td>\n",
       "      <td>NaN</td>\n",
       "      <td>NaN</td>\n",
       "      <td>NaN</td>\n",
       "      <td>NaN</td>\n",
       "      <td>NaN</td>\n",
       "      <td>NaN</td>\n",
       "      <td>NaN</td>\n",
       "    </tr>\n",
       "    <tr>\n",
       "      <th>4</th>\n",
       "      <td>NaN</td>\n",
       "      <td>NaN</td>\n",
       "      <td>NaN</td>\n",
       "      <td>NaN</td>\n",
       "      <td>NaN</td>\n",
       "      <td>-1.146465</td>\n",
       "      <td>NaN</td>\n",
       "      <td>NaN</td>\n",
       "      <td>NaN</td>\n",
       "      <td>NaN</td>\n",
       "      <td>...</td>\n",
       "      <td>NaN</td>\n",
       "      <td>NaN</td>\n",
       "      <td>NaN</td>\n",
       "      <td>NaN</td>\n",
       "      <td>NaN</td>\n",
       "      <td>NaN</td>\n",
       "      <td>NaN</td>\n",
       "      <td>NaN</td>\n",
       "      <td>NaN</td>\n",
       "      <td>NaN</td>\n",
       "    </tr>\n",
       "  </tbody>\n",
       "</table>\n",
       "<p>5 rows × 3461 columns</p>\n",
       "</div>"
      ],
      "text/plain": [
       "MovieID      0     1     2     3     4         5     6     7     8     9     \\\n",
       "UserID                                                                        \n",
       "0        0.811321   NaN   NaN   NaN   NaN       NaN   NaN   NaN   NaN   NaN   \n",
       "1             NaN   NaN   NaN   NaN   NaN       NaN   NaN   NaN   NaN   NaN   \n",
       "2             NaN   NaN   NaN   NaN   NaN       NaN   NaN   NaN   NaN   NaN   \n",
       "3             NaN   NaN   NaN   NaN   NaN       NaN   NaN   NaN   NaN   NaN   \n",
       "4             NaN   NaN   NaN   NaN   NaN -1.146465   NaN   NaN   NaN   NaN   \n",
       "\n",
       "MovieID  ...  3451  3452  3453  3454  3455  3456  3457  3458  3459  3460  \n",
       "UserID   ...                                                              \n",
       "0        ...   NaN   NaN   NaN   NaN   NaN   NaN   NaN   NaN   NaN   NaN  \n",
       "1        ...   NaN   NaN   NaN   NaN   NaN   NaN   NaN   NaN   NaN   NaN  \n",
       "2        ...   NaN   NaN   NaN   NaN   NaN   NaN   NaN   NaN   NaN   NaN  \n",
       "3        ...   NaN   NaN   NaN   NaN   NaN   NaN   NaN   NaN   NaN   NaN  \n",
       "4        ...   NaN   NaN   NaN   NaN   NaN   NaN   NaN   NaN   NaN   NaN  \n",
       "\n",
       "[5 rows x 3461 columns]"
      ]
     },
     "execution_count": 17,
     "metadata": {},
     "output_type": "execute_result"
    }
   ],
   "source": [
    "# Normalize user-item matrix\n",
    "matrix_norm = matrix.subtract(matrix.mean(axis=1), axis = 0)\n",
    "matrix_norm.head()"
   ]
  },
  {
   "cell_type": "markdown",
   "metadata": {},
   "source": [
    "# Step 9: Calculate Similarity Score for User"
   ]
  },
  {
   "cell_type": "code",
   "execution_count": 18,
   "metadata": {},
   "outputs": [
    {
     "data": {
      "text/html": [
       "<div>\n",
       "<style scoped>\n",
       "    .dataframe tbody tr th:only-of-type {\n",
       "        vertical-align: middle;\n",
       "    }\n",
       "\n",
       "    .dataframe tbody tr th {\n",
       "        vertical-align: top;\n",
       "    }\n",
       "\n",
       "    .dataframe thead th {\n",
       "        text-align: right;\n",
       "    }\n",
       "</style>\n",
       "<table border=\"1\" class=\"dataframe\">\n",
       "  <thead>\n",
       "    <tr style=\"text-align: right;\">\n",
       "      <th>UserID</th>\n",
       "      <th>0</th>\n",
       "      <th>1</th>\n",
       "      <th>2</th>\n",
       "      <th>3</th>\n",
       "      <th>4</th>\n",
       "      <th>5</th>\n",
       "      <th>6</th>\n",
       "      <th>7</th>\n",
       "      <th>8</th>\n",
       "      <th>9</th>\n",
       "      <th>...</th>\n",
       "      <th>6030</th>\n",
       "      <th>6031</th>\n",
       "      <th>6032</th>\n",
       "      <th>6033</th>\n",
       "      <th>6034</th>\n",
       "      <th>6035</th>\n",
       "      <th>6036</th>\n",
       "      <th>6037</th>\n",
       "      <th>6038</th>\n",
       "      <th>6039</th>\n",
       "    </tr>\n",
       "    <tr>\n",
       "      <th>UserID</th>\n",
       "      <th></th>\n",
       "      <th></th>\n",
       "      <th></th>\n",
       "      <th></th>\n",
       "      <th></th>\n",
       "      <th></th>\n",
       "      <th></th>\n",
       "      <th></th>\n",
       "      <th></th>\n",
       "      <th></th>\n",
       "      <th></th>\n",
       "      <th></th>\n",
       "      <th></th>\n",
       "      <th></th>\n",
       "      <th></th>\n",
       "      <th></th>\n",
       "      <th></th>\n",
       "      <th></th>\n",
       "      <th></th>\n",
       "      <th></th>\n",
       "      <th></th>\n",
       "    </tr>\n",
       "  </thead>\n",
       "  <tbody>\n",
       "    <tr>\n",
       "      <th>0</th>\n",
       "      <td>1.000000</td>\n",
       "      <td>0.416667</td>\n",
       "      <td>-0.332182</td>\n",
       "      <td>0.333333</td>\n",
       "      <td>-0.172516</td>\n",
       "      <td>0.219956</td>\n",
       "      <td>NaN</td>\n",
       "      <td>-0.583333</td>\n",
       "      <td>3.305715e-01</td>\n",
       "      <td>-0.057363</td>\n",
       "      <td>...</td>\n",
       "      <td>-0.160128</td>\n",
       "      <td>7.559289e-01</td>\n",
       "      <td>1.000000</td>\n",
       "      <td>NaN</td>\n",
       "      <td>0.381246</td>\n",
       "      <td>-0.201132</td>\n",
       "      <td>-4.517540e-01</td>\n",
       "      <td>NaN</td>\n",
       "      <td>0.056857</td>\n",
       "      <td>-0.043519</td>\n",
       "    </tr>\n",
       "    <tr>\n",
       "      <th>1</th>\n",
       "      <td>0.416667</td>\n",
       "      <td>1.000000</td>\n",
       "      <td>0.236834</td>\n",
       "      <td>-0.118678</td>\n",
       "      <td>-0.208333</td>\n",
       "      <td>-0.061859</td>\n",
       "      <td>0.154303</td>\n",
       "      <td>0.024968</td>\n",
       "      <td>2.051123e-01</td>\n",
       "      <td>-0.091578</td>\n",
       "      <td>...</td>\n",
       "      <td>-0.709299</td>\n",
       "      <td>9.083405e-02</td>\n",
       "      <td>0.301309</td>\n",
       "      <td>NaN</td>\n",
       "      <td>0.390907</td>\n",
       "      <td>0.377852</td>\n",
       "      <td>3.081451e-01</td>\n",
       "      <td>-0.500000</td>\n",
       "      <td>0.572078</td>\n",
       "      <td>-0.027143</td>\n",
       "    </tr>\n",
       "    <tr>\n",
       "      <th>2</th>\n",
       "      <td>-0.332182</td>\n",
       "      <td>0.236834</td>\n",
       "      <td>1.000000</td>\n",
       "      <td>0.840168</td>\n",
       "      <td>-0.437621</td>\n",
       "      <td>-0.349215</td>\n",
       "      <td>0.790569</td>\n",
       "      <td>-0.528594</td>\n",
       "      <td>8.012345e-18</td>\n",
       "      <td>0.009305</td>\n",
       "      <td>...</td>\n",
       "      <td>-0.395285</td>\n",
       "      <td>-9.759001e-02</td>\n",
       "      <td>-0.711556</td>\n",
       "      <td>NaN</td>\n",
       "      <td>0.427001</td>\n",
       "      <td>0.204619</td>\n",
       "      <td>2.485765e-17</td>\n",
       "      <td>0.500000</td>\n",
       "      <td>0.309277</td>\n",
       "      <td>-0.395285</td>\n",
       "    </tr>\n",
       "    <tr>\n",
       "      <th>3</th>\n",
       "      <td>0.333333</td>\n",
       "      <td>-0.118678</td>\n",
       "      <td>0.840168</td>\n",
       "      <td>1.000000</td>\n",
       "      <td>0.000000</td>\n",
       "      <td>NaN</td>\n",
       "      <td>-0.207514</td>\n",
       "      <td>0.534522</td>\n",
       "      <td>5.222330e-01</td>\n",
       "      <td>-0.270501</td>\n",
       "      <td>...</td>\n",
       "      <td>-0.645497</td>\n",
       "      <td>-4.532467e-17</td>\n",
       "      <td>-0.078598</td>\n",
       "      <td>NaN</td>\n",
       "      <td>-0.013558</td>\n",
       "      <td>0.467447</td>\n",
       "      <td>-1.132277e-01</td>\n",
       "      <td>-1.000000</td>\n",
       "      <td>0.000000</td>\n",
       "      <td>0.450323</td>\n",
       "    </tr>\n",
       "    <tr>\n",
       "      <th>4</th>\n",
       "      <td>-0.172516</td>\n",
       "      <td>-0.208333</td>\n",
       "      <td>-0.437621</td>\n",
       "      <td>0.000000</td>\n",
       "      <td>1.000000</td>\n",
       "      <td>-0.592014</td>\n",
       "      <td>-0.028516</td>\n",
       "      <td>0.218130</td>\n",
       "      <td>-3.345621e-17</td>\n",
       "      <td>-0.023582</td>\n",
       "      <td>...</td>\n",
       "      <td>0.260875</td>\n",
       "      <td>7.071068e-01</td>\n",
       "      <td>0.116775</td>\n",
       "      <td>0.5</td>\n",
       "      <td>0.539112</td>\n",
       "      <td>0.160690</td>\n",
       "      <td>-9.713482e-02</td>\n",
       "      <td>-0.928571</td>\n",
       "      <td>1.000000</td>\n",
       "      <td>0.308273</td>\n",
       "    </tr>\n",
       "  </tbody>\n",
       "</table>\n",
       "<p>5 rows × 6040 columns</p>\n",
       "</div>"
      ],
      "text/plain": [
       "UserID      0         1         2         3         4         5         6     \\\n",
       "UserID                                                                         \n",
       "0       1.000000  0.416667 -0.332182  0.333333 -0.172516  0.219956       NaN   \n",
       "1       0.416667  1.000000  0.236834 -0.118678 -0.208333 -0.061859  0.154303   \n",
       "2      -0.332182  0.236834  1.000000  0.840168 -0.437621 -0.349215  0.790569   \n",
       "3       0.333333 -0.118678  0.840168  1.000000  0.000000       NaN -0.207514   \n",
       "4      -0.172516 -0.208333 -0.437621  0.000000  1.000000 -0.592014 -0.028516   \n",
       "\n",
       "UserID      7             8         9     ...      6030          6031  \\\n",
       "UserID                                    ...                           \n",
       "0      -0.583333  3.305715e-01 -0.057363  ... -0.160128  7.559289e-01   \n",
       "1       0.024968  2.051123e-01 -0.091578  ... -0.709299  9.083405e-02   \n",
       "2      -0.528594  8.012345e-18  0.009305  ... -0.395285 -9.759001e-02   \n",
       "3       0.534522  5.222330e-01 -0.270501  ... -0.645497 -4.532467e-17   \n",
       "4       0.218130 -3.345621e-17 -0.023582  ...  0.260875  7.071068e-01   \n",
       "\n",
       "UserID      6032  6033      6034      6035          6036      6037      6038  \\\n",
       "UserID                                                                         \n",
       "0       1.000000   NaN  0.381246 -0.201132 -4.517540e-01       NaN  0.056857   \n",
       "1       0.301309   NaN  0.390907  0.377852  3.081451e-01 -0.500000  0.572078   \n",
       "2      -0.711556   NaN  0.427001  0.204619  2.485765e-17  0.500000  0.309277   \n",
       "3      -0.078598   NaN -0.013558  0.467447 -1.132277e-01 -1.000000  0.000000   \n",
       "4       0.116775   0.5  0.539112  0.160690 -9.713482e-02 -0.928571  1.000000   \n",
       "\n",
       "UserID      6039  \n",
       "UserID            \n",
       "0      -0.043519  \n",
       "1      -0.027143  \n",
       "2      -0.395285  \n",
       "3       0.450323  \n",
       "4       0.308273  \n",
       "\n",
       "[5 rows x 6040 columns]"
      ]
     },
     "execution_count": 18,
     "metadata": {},
     "output_type": "execute_result"
    }
   ],
   "source": [
    "user_similarity = matrix_norm.T.corr()\n",
    "user_similarity.head()"
   ]
  },
  {
   "cell_type": "markdown",
   "metadata": {},
   "source": [
    "# Step 10: Split the data into train, test & validation set for cross validation"
   ]
  },
  {
   "cell_type": "markdown",
   "metadata": {},
   "source": [
    "### 10.1 Prepare Training Data (70%)"
   ]
  },
  {
   "cell_type": "code",
   "execution_count": 19,
   "metadata": {},
   "outputs": [],
   "source": [
    "from sklearn.model_selection import train_test_split\n",
    "train, temp_test = train_test_split(dataset, test_size=0.3)"
   ]
  },
  {
   "cell_type": "code",
   "execution_count": 20,
   "metadata": {},
   "outputs": [
    {
     "data": {
      "text/plain": [
       "(699853, 3)"
      ]
     },
     "execution_count": 20,
     "metadata": {},
     "output_type": "execute_result"
    }
   ],
   "source": [
    "train.shape"
   ]
  },
  {
   "cell_type": "code",
   "execution_count": 21,
   "metadata": {},
   "outputs": [
    {
     "data": {
      "text/plain": [
       "(299938, 3)"
      ]
     },
     "execution_count": 21,
     "metadata": {},
     "output_type": "execute_result"
    }
   ],
   "source": [
    "temp_test.shape"
   ]
  },
  {
   "cell_type": "markdown",
   "metadata": {},
   "source": [
    "### 10.2 Prepare Testing and Validation Data (15% & 15%)"
   ]
  },
  {
   "cell_type": "code",
   "execution_count": 22,
   "metadata": {},
   "outputs": [],
   "source": [
    "test, validate = train_test_split(temp_test, test_size=0.5)"
   ]
  },
  {
   "cell_type": "code",
   "execution_count": 23,
   "metadata": {},
   "outputs": [
    {
     "data": {
      "text/plain": [
       "(149969, 3)"
      ]
     },
     "execution_count": 23,
     "metadata": {},
     "output_type": "execute_result"
    }
   ],
   "source": [
    "test.shape"
   ]
  },
  {
   "cell_type": "code",
   "execution_count": 24,
   "metadata": {},
   "outputs": [
    {
     "data": {
      "text/plain": [
       "(149969, 3)"
      ]
     },
     "execution_count": 24,
     "metadata": {},
     "output_type": "execute_result"
    }
   ],
   "source": [
    "validate.shape"
   ]
  },
  {
   "cell_type": "markdown",
   "metadata": {},
   "source": [
    "# Step 11: Create Model"
   ]
  },
  {
   "cell_type": "code",
   "execution_count": 25,
   "metadata": {},
   "outputs": [],
   "source": [
    "from tensorflow.keras.layers import Embedding, Reshape, Dot, Dropout, Dense,Input\n",
    "from tensorflow.keras.models import Sequential\n",
    "from tensorflow.keras import Model\n",
    "from tensorflow.keras import metrics\n",
    "import tensorflow as tf"
   ]
  },
  {
   "cell_type": "code",
   "execution_count": 26,
   "metadata": {},
   "outputs": [],
   "source": [
    "user_num = len(dataset.UserID.unique())\n",
    "item_num = len(dataset.MovieID.unique())\n",
    "\n",
    "embed_dim = 5\n",
    "\n",
    "# Embedding layer enables us to convert each Movie into a fixed length vector of defined size\n",
    "movie_input = Input(shape=[1]) # movie rating\n",
    "movie_embedding = Embedding(item_num, embed_dim)(movie_input) #6040 x 5 x 1\n",
    "movie_vec = Reshape((embed_dim,))(movie_embedding) # Use Reshape to get the vector\n",
    "\n",
    "# Embedding layer enables us to convert each User into a fixed length vector of defined size\n",
    "user_input = Input(shape=[1])\n",
    "user_embedding = Embedding(user_num, embed_dim)(user_input) # 3672 x 5 x 1\n",
    "user_vec = Reshape((embed_dim,))(user_embedding) # Use Reshape to get the vector\n",
    "\n",
    "dot = Dot(axes = 1)([movie_vec,user_vec])\n",
    "\n",
    "model = Model([user_input, movie_input], dot) # the model is a dot product of user_input and movie_input\n",
    "\n",
    "#MSE\n",
    "model.compile('adam', 'mean_squared_error')\n",
    "\n",
    "#MAPE\n",
    "#mape = tf.keras.losses.MeanAbsolutePercentageError()\n",
    "#model.compile('adam', mape)"
   ]
  },
  {
   "cell_type": "code",
   "execution_count": 27,
   "metadata": {},
   "outputs": [
    {
     "name": "stdout",
     "output_type": "stream",
     "text": [
      "Model: \"model\"\n",
      "__________________________________________________________________________________________________\n",
      " Layer (type)                   Output Shape         Param #     Connected to                     \n",
      "==================================================================================================\n",
      " input_1 (InputLayer)           [(None, 1)]          0           []                               \n",
      "                                                                                                  \n",
      " input_2 (InputLayer)           [(None, 1)]          0           []                               \n",
      "                                                                                                  \n",
      " embedding (Embedding)          (None, 1, 5)         17305       ['input_1[0][0]']                \n",
      "                                                                                                  \n",
      " embedding_1 (Embedding)        (None, 1, 5)         30200       ['input_2[0][0]']                \n",
      "                                                                                                  \n",
      " reshape (Reshape)              (None, 5)            0           ['embedding[0][0]']              \n",
      "                                                                                                  \n",
      " reshape_1 (Reshape)            (None, 5)            0           ['embedding_1[0][0]']            \n",
      "                                                                                                  \n",
      " dot (Dot)                      (None, 1)            0           ['reshape[0][0]',                \n",
      "                                                                  'reshape_1[0][0]']              \n",
      "                                                                                                  \n",
      "==================================================================================================\n",
      "Total params: 47,505\n",
      "Trainable params: 47,505\n",
      "Non-trainable params: 0\n",
      "__________________________________________________________________________________________________\n"
     ]
    }
   ],
   "source": [
    "model.summary()"
   ]
  },
  {
   "cell_type": "code",
   "execution_count": 28,
   "metadata": {
    "scrolled": true
   },
   "outputs": [
    {
     "name": "stdout",
     "output_type": "stream",
     "text": [
      "Epoch 1/20\n",
      "21871/21871 [==============================] - 113s 5ms/step - loss: 4.8907 - val_loss: 1.1192\n",
      "Epoch 2/20\n",
      "21871/21871 [==============================] - 112s 5ms/step - loss: 0.9515 - val_loss: 0.8944\n",
      "Epoch 3/20\n",
      "21871/21871 [==============================] - 106s 5ms/step - loss: 0.8736 - val_loss: 0.8736\n",
      "Epoch 4/20\n",
      "21871/21871 [==============================] - 101s 5ms/step - loss: 0.8612 - val_loss: 0.8657\n",
      "Epoch 5/20\n",
      "21871/21871 [==============================] - 95s 4ms/step - loss: 0.8520 - val_loss: 0.8575\n",
      "Epoch 6/20\n",
      "21871/21871 [==============================] - 106s 5ms/step - loss: 0.8389 - val_loss: 0.8418\n",
      "Epoch 7/20\n",
      "21871/21871 [==============================] - 101s 5ms/step - loss: 0.8188 - val_loss: 0.8243\n",
      "Epoch 8/20\n",
      "21871/21871 [==============================] - 97s 4ms/step - loss: 0.7995 - val_loss: 0.8129\n",
      "Epoch 9/20\n",
      "21871/21871 [==============================] - 104s 5ms/step - loss: 0.7847 - val_loss: 0.8021\n",
      "Epoch 10/20\n",
      "21871/21871 [==============================] - 102s 5ms/step - loss: 0.7724 - val_loss: 0.7981\n",
      "Epoch 11/20\n",
      "21871/21871 [==============================] - 106s 5ms/step - loss: 0.7623 - val_loss: 0.7952\n",
      "Epoch 12/20\n",
      "21871/21871 [==============================] - 104s 5ms/step - loss: 0.7535 - val_loss: 0.7918\n",
      "Epoch 13/20\n",
      "21871/21871 [==============================] - 104s 5ms/step - loss: 0.7459 - val_loss: 0.7859\n",
      "Epoch 14/20\n",
      "21871/21871 [==============================] - 102s 5ms/step - loss: 0.7394 - val_loss: 0.7850\n",
      "Epoch 15/20\n",
      "21871/21871 [==============================] - 104s 5ms/step - loss: 0.7335 - val_loss: 0.7833\n",
      "Epoch 16/20\n",
      "21871/21871 [==============================] - 108s 5ms/step - loss: 0.7280 - val_loss: 0.7830\n",
      "Epoch 17/20\n",
      "21871/21871 [==============================] - 110s 5ms/step - loss: 0.7238 - val_loss: 0.7821\n",
      "Epoch 18/20\n",
      "21871/21871 [==============================] - 110s 5ms/step - loss: 0.7205 - val_loss: 0.7800\n",
      "Epoch 19/20\n",
      "21871/21871 [==============================] - 103s 5ms/step - loss: 0.7171 - val_loss: 0.7769\n",
      "Epoch 20/20\n",
      "21871/21871 [==============================] - 95s 4ms/step - loss: 0.7147 - val_loss: 0.7774\n"
     ]
    }
   ],
   "source": [
    "history = model.fit([train.UserID, train.MovieID], train.Rating, epochs=20,\n",
    "                    validation_data=([test.UserID,test.MovieID], test.Rating))"
   ]
  },
  {
   "cell_type": "markdown",
   "metadata": {},
   "source": [
    "# Step 12: Testing by test dataset & do Prediction"
   ]
  },
  {
   "cell_type": "code",
   "execution_count": 29,
   "metadata": {},
   "outputs": [],
   "source": [
    "def get_value(k,d):\n",
    "    # meet unknow user or movie, just assign a random user\n",
    "    if k not in d.keys():\n",
    "        return 0\n",
    "    return d[k]"
   ]
  },
  {
   "cell_type": "markdown",
   "metadata": {},
   "source": [
    "Mapping using the same dictionary"
   ]
  },
  {
   "cell_type": "code",
   "execution_count": 30,
   "metadata": {},
   "outputs": [],
   "source": [
    "validate['UserID'] = validate['UserID'].apply(get_value, d = u_d) # map the userID in testing will be existed in traing\n",
    "validate['MovieID'] = validate['MovieID'].apply(get_value, d = m_d) # map the movieID in testing will be existed in traing"
   ]
  },
  {
   "cell_type": "code",
   "execution_count": 31,
   "metadata": {},
   "outputs": [
    {
     "data": {
      "text/html": [
       "<div>\n",
       "<style scoped>\n",
       "    .dataframe tbody tr th:only-of-type {\n",
       "        vertical-align: middle;\n",
       "    }\n",
       "\n",
       "    .dataframe tbody tr th {\n",
       "        vertical-align: top;\n",
       "    }\n",
       "\n",
       "    .dataframe thead th {\n",
       "        text-align: right;\n",
       "    }\n",
       "</style>\n",
       "<table border=\"1\" class=\"dataframe\">\n",
       "  <thead>\n",
       "    <tr style=\"text-align: right;\">\n",
       "      <th></th>\n",
       "      <th>UserID</th>\n",
       "      <th>MovieID</th>\n",
       "      <th>Rating</th>\n",
       "    </tr>\n",
       "  </thead>\n",
       "  <tbody>\n",
       "    <tr>\n",
       "      <th>291573</th>\n",
       "      <td>1735</td>\n",
       "      <td>1277</td>\n",
       "      <td>4</td>\n",
       "    </tr>\n",
       "    <tr>\n",
       "      <th>613093</th>\n",
       "      <td>3714</td>\n",
       "      <td>514</td>\n",
       "      <td>2</td>\n",
       "    </tr>\n",
       "    <tr>\n",
       "      <th>794246</th>\n",
       "      <td>4746</td>\n",
       "      <td>2095</td>\n",
       "      <td>4</td>\n",
       "    </tr>\n",
       "    <tr>\n",
       "      <th>355407</th>\n",
       "      <td>2077</td>\n",
       "      <td>603</td>\n",
       "      <td>3</td>\n",
       "    </tr>\n",
       "    <tr>\n",
       "      <th>283505</th>\n",
       "      <td>1695</td>\n",
       "      <td>2138</td>\n",
       "      <td>4</td>\n",
       "    </tr>\n",
       "  </tbody>\n",
       "</table>\n",
       "</div>"
      ],
      "text/plain": [
       "        UserID  MovieID  Rating\n",
       "291573    1735     1277       4\n",
       "613093    3714      514       2\n",
       "794246    4746     2095       4\n",
       "355407    2077      603       3\n",
       "283505    1695     2138       4"
      ]
     },
     "execution_count": 31,
     "metadata": {},
     "output_type": "execute_result"
    }
   ],
   "source": [
    "validate.head()"
   ]
  },
  {
   "cell_type": "code",
   "execution_count": 32,
   "metadata": {},
   "outputs": [
    {
     "name": "stdout",
     "output_type": "stream",
     "text": [
      "4687/4687 [==============================] - 5s 947us/step\n"
     ]
    }
   ],
   "source": [
    "prediction = model.predict([validate['UserID'], validate['MovieID']])\n",
    "res = validate\n",
    "res['Rating'] = prediction"
   ]
  },
  {
   "cell_type": "code",
   "execution_count": 33,
   "metadata": {},
   "outputs": [
    {
     "data": {
      "text/html": [
       "<div>\n",
       "<style scoped>\n",
       "    .dataframe tbody tr th:only-of-type {\n",
       "        vertical-align: middle;\n",
       "    }\n",
       "\n",
       "    .dataframe tbody tr th {\n",
       "        vertical-align: top;\n",
       "    }\n",
       "\n",
       "    .dataframe thead th {\n",
       "        text-align: right;\n",
       "    }\n",
       "</style>\n",
       "<table border=\"1\" class=\"dataframe\">\n",
       "  <thead>\n",
       "    <tr style=\"text-align: right;\">\n",
       "      <th></th>\n",
       "      <th>UserID</th>\n",
       "      <th>MovieID</th>\n",
       "      <th>Rating</th>\n",
       "    </tr>\n",
       "  </thead>\n",
       "  <tbody>\n",
       "    <tr>\n",
       "      <th>291573</th>\n",
       "      <td>1735</td>\n",
       "      <td>1277</td>\n",
       "      <td>1.171157</td>\n",
       "    </tr>\n",
       "    <tr>\n",
       "      <th>613093</th>\n",
       "      <td>3714</td>\n",
       "      <td>514</td>\n",
       "      <td>3.532908</td>\n",
       "    </tr>\n",
       "    <tr>\n",
       "      <th>794246</th>\n",
       "      <td>4746</td>\n",
       "      <td>2095</td>\n",
       "      <td>3.471993</td>\n",
       "    </tr>\n",
       "    <tr>\n",
       "      <th>355407</th>\n",
       "      <td>2077</td>\n",
       "      <td>603</td>\n",
       "      <td>2.605485</td>\n",
       "    </tr>\n",
       "    <tr>\n",
       "      <th>283505</th>\n",
       "      <td>1695</td>\n",
       "      <td>2138</td>\n",
       "      <td>2.237606</td>\n",
       "    </tr>\n",
       "  </tbody>\n",
       "</table>\n",
       "</div>"
      ],
      "text/plain": [
       "        UserID  MovieID    Rating\n",
       "291573    1735     1277  1.171157\n",
       "613093    3714      514  3.532908\n",
       "794246    4746     2095  3.471993\n",
       "355407    2077      603  2.605485\n",
       "283505    1695     2138  2.237606"
      ]
     },
     "execution_count": 33,
     "metadata": {},
     "output_type": "execute_result"
    }
   ],
   "source": [
    "res.head()"
   ]
  },
  {
   "cell_type": "code",
   "execution_count": 34,
   "metadata": {},
   "outputs": [],
   "source": [
    "res.to_csv('Output_User.csv', columns = ['UserID','MovieID','Rating'] ,index  = False)"
   ]
  }
 ],
 "metadata": {
  "kernelspec": {
   "display_name": "Python 3 (ipykernel)",
   "language": "python",
   "name": "python3"
  },
  "language_info": {
   "codemirror_mode": {
    "name": "ipython",
    "version": 3
   },
   "file_extension": ".py",
   "mimetype": "text/x-python",
   "name": "python",
   "nbconvert_exporter": "python",
   "pygments_lexer": "ipython3",
   "version": "3.8.12"
  }
 },
 "nbformat": 4,
 "nbformat_minor": 2
}
